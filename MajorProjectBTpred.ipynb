{
 "cells": [
  {
   "cell_type": "code",
   "execution_count": 1,
   "id": "0d9bddf7",
   "metadata": {},
   "outputs": [],
   "source": [
    "import warnings\n",
    "warnings.filterwarnings('ignore')\n"
   ]
  },
  {
   "cell_type": "code",
   "execution_count": 2,
   "id": "fd5363a9",
   "metadata": {},
   "outputs": [],
   "source": [
    "import numpy as np\n",
    "import matplotlib.pyplot as plt\n",
    "import os\n",
    "import math \n",
    "import shutil\n",
    "import glob\n"
   ]
  },
  {
   "cell_type": "code",
   "execution_count": 3,
   "id": "ac628a68",
   "metadata": {},
   "outputs": [],
   "source": [
    "# To count the numbers of images in the respective classes 0- Tumor 1- healthy\n",
    "ROOT_DIR =\"../Untitled Folder 6/Training\"\n",
    "number_of_images ={}\n",
    "\n",
    "for dir in os.listdir(ROOT_DIR):\n",
    "  number_of_images[dir] = len(os.listdir(os.path.join(ROOT_DIR, dir)))"
   ]
  },
  {
   "cell_type": "code",
   "execution_count": 4,
   "id": "b511703e",
   "metadata": {},
   "outputs": [
    {
     "data": {
      "text/plain": [
       "dict_items([('no_tumor', 114), ('pituitary_tumor', 171)])"
      ]
     },
     "execution_count": 4,
     "metadata": {},
     "output_type": "execute_result"
    }
   ],
   "source": [
    "number_of_images.items()"
   ]
  },
  {
   "cell_type": "code",
   "execution_count": 5,
   "id": "916b1469",
   "metadata": {},
   "outputs": [
    {
     "data": {
      "text/plain": [
       "['no_tumor', 'pituitary_tumor']"
      ]
     },
     "execution_count": 5,
     "metadata": {},
     "output_type": "execute_result"
    }
   ],
   "source": [
    "os.listdir(\"../Untitled Folder 6/Training\")"
   ]
  },
  {
   "cell_type": "markdown",
   "id": "7bc4ee02",
   "metadata": {},
   "source": [
    "# Splitting the Data\n",
    "70% for training\n",
    "15% for validating\n",
    "15% for testing\n"
   ]
  },
  {
   "cell_type": "code",
   "execution_count": 6,
   "id": "6812832c",
   "metadata": {},
   "outputs": [],
   "source": [
    "def dataFolder(p, split):\n",
    "  # we create a train folder\n",
    "\n",
    "  if not os.path.exists(\"./\"+p):\n",
    "    os.mkdir(\"./\"+p)\n",
    "\n",
    "    for dir in os.listdir(ROOT_DIR):\n",
    "      os.makedirs(\"./\"+p+\"/\"+dir)\n",
    "      for img in np.random.choice(a=os.listdir(os.path.join(ROOT_DIR, dir) ) , \n",
    "                                  size = (math.floor(split*number_of_images[dir]) -5),\n",
    "                                  replace=False ):\n",
    "        O = os.path.join(ROOT_DIR,dir,img)\n",
    "        D = os.path.join(\"./\"+p, dir)\n",
    "        shutil.copy(O,D)\n",
    "        os.remove(O)\n",
    "  else:\n",
    "    print( f\"{p}Folder exsist\")"
   ]
  },
  {
   "cell_type": "code",
   "execution_count": 7,
   "id": "d281fd4b",
   "metadata": {},
   "outputs": [
    {
     "name": "stdout",
     "output_type": "stream",
     "text": [
      "trainFolder exsist\n"
     ]
    }
   ],
   "source": [
    "dataFolder(\"train\", 0.7)"
   ]
  },
  {
   "cell_type": "code",
   "execution_count": 8,
   "id": "6e72f755",
   "metadata": {},
   "outputs": [
    {
     "name": "stdout",
     "output_type": "stream",
     "text": [
      "valFolder exsist\n"
     ]
    }
   ],
   "source": [
    "dataFolder(\"val\", 0.15)"
   ]
  },
  {
   "cell_type": "code",
   "execution_count": 9,
   "id": "06eb75f8",
   "metadata": {},
   "outputs": [
    {
     "name": "stdout",
     "output_type": "stream",
     "text": [
      "testFolder exsist\n"
     ]
    }
   ],
   "source": [
    "dataFolder(\"test\", 0.15)"
   ]
  },
  {
   "cell_type": "code",
   "execution_count": 10,
   "id": "56e1a727",
   "metadata": {},
   "outputs": [],
   "source": [
    "from keras.layers import Conv2D, MaxPool2D, Dropout, Flatten, Dense, BatchNormalization, GlobalAvgPool2D\n",
    "from keras.models import Sequential\n",
    "from keras.preprocessing.image import ImageDataGenerator\n",
    "import keras"
   ]
  },
  {
   "cell_type": "code",
   "execution_count": 11,
   "id": "78755178",
   "metadata": {},
   "outputs": [
    {
     "name": "stdout",
     "output_type": "stream",
     "text": [
      "Model: \"sequential\"\n",
      "_________________________________________________________________\n",
      " Layer (type)                Output Shape              Param #   \n",
      "=================================================================\n",
      " conv2d (Conv2D)             (None, 222, 222, 16)      448       \n",
      "                                                                 \n",
      " conv2d_1 (Conv2D)           (None, 220, 220, 36)      5220      \n",
      "                                                                 \n",
      " max_pooling2d (MaxPooling2D  (None, 110, 110, 36)     0         \n",
      " )                                                               \n",
      "                                                                 \n",
      " conv2d_2 (Conv2D)           (None, 108, 108, 64)      20800     \n",
      "                                                                 \n",
      " max_pooling2d_1 (MaxPooling  (None, 54, 54, 64)       0         \n",
      " 2D)                                                             \n",
      "                                                                 \n",
      " conv2d_3 (Conv2D)           (None, 52, 52, 128)       73856     \n",
      "                                                                 \n",
      " max_pooling2d_2 (MaxPooling  (None, 26, 26, 128)      0         \n",
      " 2D)                                                             \n",
      "                                                                 \n",
      " dropout (Dropout)           (None, 26, 26, 128)       0         \n",
      "                                                                 \n",
      " flatten (Flatten)           (None, 86528)             0         \n",
      "                                                                 \n",
      " dense (Dense)               (None, 64)                5537856   \n",
      "                                                                 \n",
      " dropout_1 (Dropout)         (None, 64)                0         \n",
      "                                                                 \n",
      " dense_1 (Dense)             (None, 1)                 65        \n",
      "                                                                 \n",
      "=================================================================\n",
      "Total params: 5,638,245\n",
      "Trainable params: 5,638,245\n",
      "Non-trainable params: 0\n",
      "_________________________________________________________________\n"
     ]
    }
   ],
   "source": [
    "#CNN model\n",
    "\n",
    "model = Sequential()\n",
    "\n",
    "model.add(Conv2D(filters= 16, kernel_size= (3,3), activation= 'relu', input_shape = (224,224,3) ))\n",
    "\n",
    "model.add(Conv2D(filters= 36 , kernel_size= (3,3), activation= 'relu' ))\n",
    "model.add(MaxPool2D(pool_size=(2,2)))\n",
    "\n",
    "model.add(Conv2D(filters= 64 , kernel_size= (3,3), activation= 'relu' ))\n",
    "model.add(MaxPool2D(pool_size=(2,2)))\n",
    "\n",
    "model.add(Conv2D(filters= 128 , kernel_size= (3,3), activation= 'relu' ))\n",
    "model.add(MaxPool2D(pool_size=(2,2)))\n",
    "\n",
    "model.add(Dropout(rate= 0.25))\n",
    "\n",
    "model.add(Flatten())\n",
    "model.add(Dense(units=64 ,activation= 'relu'))\n",
    "model.add(Dropout(rate= 0.25 ))\n",
    "model.add(Dense(units= 1, activation= 'sigmoid'))\n",
    "\n",
    "model.summary()\n"
   ]
  },
  {
   "cell_type": "code",
   "execution_count": 12,
   "id": "975ab334",
   "metadata": {},
   "outputs": [],
   "source": [
    "model.compile(optimizer='adam', loss= keras.losses.binary_crossentropy, metrics =['accuracy'])"
   ]
  },
  {
   "cell_type": "markdown",
   "id": "79e49f54",
   "metadata": {},
   "source": [
    "# Preparing the Data\n"
   ]
  },
  {
   "cell_type": "code",
   "execution_count": 13,
   "id": "5fc4fe8b",
   "metadata": {},
   "outputs": [],
   "source": [
    "from keras.layers.preprocessing.image_preprocessing import HORIZONTAL\n",
    "def preprocessingImage1(path):\n",
    "  \"\"\"\n",
    "  input : Path\n",
    "  output : Pre processed image\n",
    "  \"\"\"\n",
    "  image_data = ImageDataGenerator(zoom_range= 0.2, shear_range= 0.2, rescale= 1/225, horizontal_flip=True)\n",
    "  image = image_data.flow_from_directory(directory = path, target_size = (224,224), batch_size = 32, class_mode = 'binary')\n",
    "\n",
    "  return image"
   ]
  },
  {
   "cell_type": "code",
   "execution_count": 14,
   "id": "74016c67",
   "metadata": {},
   "outputs": [
    {
     "name": "stdout",
     "output_type": "stream",
     "text": [
      "Found 844 images belonging to 2 classes.\n"
     ]
    }
   ],
   "source": [
    "path = \"../Untitled Folder 6/train\"\n",
    "train_data = preprocessingImage1(path)"
   ]
  },
  {
   "cell_type": "code",
   "execution_count": 15,
   "id": "5fc516d7",
   "metadata": {},
   "outputs": [],
   "source": [
    "def preprocessingImage2(path):\n",
    "  \"\"\"\n",
    "  input : Path\n",
    "  output : Pre processed image\n",
    "  \"\"\"\n",
    "  image_data = ImageDataGenerator(rescale= 1/225,)\n",
    "  image = image_data.flow_from_directory(directory = path, target_size = (224,224), batch_size = 32, class_mode = 'binary')\n",
    "\n",
    "  return image "
   ]
  },
  {
   "cell_type": "code",
   "execution_count": 16,
   "id": "c5944399",
   "metadata": {},
   "outputs": [
    {
     "name": "stdout",
     "output_type": "stream",
     "text": [
      "Found 173 images belonging to 2 classes.\n"
     ]
    }
   ],
   "source": [
    "path = '../Untitled Folder 6/test'\n",
    "test_data = preprocessingImage2(path)"
   ]
  },
  {
   "cell_type": "code",
   "execution_count": 17,
   "id": "2191cc44",
   "metadata": {},
   "outputs": [
    {
     "name": "stdout",
     "output_type": "stream",
     "text": [
      "Found 173 images belonging to 2 classes.\n"
     ]
    }
   ],
   "source": [
    "path = '../Untitled Folder 6/val'\n",
    "val_data = preprocessingImage2(path)"
   ]
  },
  {
   "cell_type": "code",
   "execution_count": 18,
   "id": "407d887e",
   "metadata": {},
   "outputs": [],
   "source": [
    "# check point\n",
    "\n",
    "from keras.callbacks import ModelCheckpoint, EarlyStopping\n",
    "\n",
    "es = EarlyStopping(monitor=\"val_accuracy\", min_delta= 0.01 , patience= 5, verbose= 1, mode = 'auto')\n",
    "\n",
    "mc = ModelCheckpoint(monitor=\"val_accuracy\",filepath=\"./bestmodel.h5\", verbose= 1, save_best_only= True, mode ='auto')\n",
    "cd = [es,mc]"
   ]
  },
  {
   "cell_type": "code",
   "execution_count": null,
   "id": "172c9b0a",
   "metadata": {
    "scrolled": true
   },
   "outputs": [
    {
     "name": "stdout",
     "output_type": "stream",
     "text": [
      "Epoch 1/30\n",
      "8/8 [==============================] - ETA: 0s - loss: 0.8123 - accuracy: 0.6144\n",
      "Epoch 1: val_accuracy improved from -inf to 0.67969, saving model to .\\bestmodel.h5\n",
      "8/8 [==============================] - 33s 4s/step - loss: 0.8123 - accuracy: 0.6144 - val_loss: 0.6284 - val_accuracy: 0.6797\n",
      "Epoch 2/30\n",
      "3/8 [==========>...................] - ETA: 18s - loss: 0.5860 - accuracy: 0.7604"
     ]
    }
   ],
   "source": [
    "hs = model.fit_generator(generator= train_data,\n",
    "                         steps_per_epoch= 8 ,\n",
    "                         epochs=30 ,\n",
    "                         verbose= 1,\n",
    "                         validation_data= val_data,\n",
    "                         validation_steps= 4, \n",
    "                         callbacks = cd)"
   ]
  },
  {
   "cell_type": "code",
   "execution_count": null,
   "id": "130845dd",
   "metadata": {},
   "outputs": [],
   "source": [
    "h = hs.history\n",
    "h.keys()"
   ]
  },
  {
   "cell_type": "code",
   "execution_count": null,
   "id": "2c00cf63",
   "metadata": {},
   "outputs": [],
   "source": [
    "import matplotlib.pyplot as plt\n",
    "\n",
    "plt.plot(h['accuracy'])\n",
    "plt.plot(h['val_accuracy'], c = \"black\")\n",
    "\n",
    "plt.title(\"acc vs val-acc\")\n",
    "plt.show()"
   ]
  },
  {
   "cell_type": "code",
   "execution_count": null,
   "id": "f42c273a",
   "metadata": {},
   "outputs": [],
   "source": [
    "plt.plot(h['loss'])\n",
    "plt.plot(h['val_loss'], c = \"black\")\n",
    "\n",
    "plt.title(\"loss vs val-loss\")\n",
    "plt.show()"
   ]
  },
  {
   "cell_type": "code",
   "execution_count": null,
   "id": "ac8fdb61",
   "metadata": {},
   "outputs": [],
   "source": [
    "##Accuracy\n",
    "from keras.models import load_model\n",
    "\n",
    "model = load_model(\"../Untitled Folder 6/bestmodel.h5\")"
   ]
  },
  {
   "cell_type": "code",
   "execution_count": null,
   "id": "3a1be9e6",
   "metadata": {},
   "outputs": [],
   "source": [
    "acc = model.evaluate_generator(test_data)[1]\n",
    "\n",
    "print(f\"The accuracy of the model is {acc*100} %\")"
   ]
  },
  {
   "cell_type": "code",
   "execution_count": null,
   "id": "6f5de97c",
   "metadata": {},
   "outputs": [],
   "source": [
    "from tensorflow.keras.preprocessing.image import load_img, img_to_array"
   ]
  },
  {
   "cell_type": "code",
   "execution_count": null,
   "id": "7a69dc47",
   "metadata": {},
   "outputs": [],
   "source": [
    "path = \"../Untitled Folder 6/yes/Y52.jpg\"\n",
    "\n",
    "img = load_img(path, target_size = (224,224))\n",
    "input_arr = img_to_array(img)/255\n",
    "\n",
    "plt.imshow(input_arr)\n",
    "plt.show()\n",
    "\n",
    "input_arr.shape\n",
    "\n",
    "input_arr = np.expand_dims(input_arr, axis= 0)\n",
    "\n",
    "pred = (model.predict(input_arr) > 0.5).astype(\"int32\")\n",
    "pred\n",
    "\n",
    "if pred ==0:\n",
    "  print(\"The MRI shows no Tumor\")\n",
    "else:\n",
    "  print(\"The MRI shows  Tumor\")"
   ]
  },
  {
   "cell_type": "code",
   "execution_count": null,
   "id": "ed90f878",
   "metadata": {},
   "outputs": [],
   "source": [
    "train_data.class_indices"
   ]
  },
  {
   "cell_type": "code",
   "execution_count": null,
   "id": "14970727",
   "metadata": {},
   "outputs": [],
   "source": []
  }
 ],
 "metadata": {
  "kernelspec": {
   "display_name": "Python 3",
   "language": "python",
   "name": "python3"
  },
  "language_info": {
   "codemirror_mode": {
    "name": "ipython",
    "version": 3
   },
   "file_extension": ".py",
   "mimetype": "text/x-python",
   "name": "python",
   "nbconvert_exporter": "python",
   "pygments_lexer": "ipython3",
   "version": "3.8.8"
  }
 },
 "nbformat": 4,
 "nbformat_minor": 5
}
